{
 "cells": [
  {
   "cell_type": "code",
   "execution_count": 2,
   "metadata": {
    "collapsed": true
   },
   "outputs": [],
   "source": [
    "import pandas as pd\n",
    "import numpy as np"
   ]
  },
  {
   "cell_type": "code",
   "execution_count": 4,
   "metadata": {},
   "outputs": [
    {
     "data": {
      "text/html": [
       "<div>\n",
       "<style>\n",
       "    .dataframe thead tr:only-child th {\n",
       "        text-align: right;\n",
       "    }\n",
       "\n",
       "    .dataframe thead th {\n",
       "        text-align: left;\n",
       "    }\n",
       "\n",
       "    .dataframe tbody tr th {\n",
       "        vertical-align: top;\n",
       "    }\n",
       "</style>\n",
       "<table border=\"1\" class=\"dataframe\">\n",
       "  <thead>\n",
       "    <tr style=\"text-align: right;\">\n",
       "      <th></th>\n",
       "      <th>available_bikes</th>\n",
       "      <th>last_update</th>\n",
       "      <th>name</th>\n",
       "      <th>latitude</th>\n",
       "      <th>longitude</th>\n",
       "      <th>available_bike_stands</th>\n",
       "      <th>bike_stands</th>\n",
       "      <th>status</th>\n",
       "    </tr>\n",
       "  </thead>\n",
       "  <tbody>\n",
       "    <tr>\n",
       "      <th>0</th>\n",
       "      <td>0</td>\n",
       "      <td>29/03/2018 10:29</td>\n",
       "      <td>SMITHFIELD NORTH</td>\n",
       "      <td>53.349562</td>\n",
       "      <td>-6.278198</td>\n",
       "      <td>30</td>\n",
       "      <td>30</td>\n",
       "      <td>OPEN</td>\n",
       "    </tr>\n",
       "    <tr>\n",
       "      <th>1</th>\n",
       "      <td>16</td>\n",
       "      <td>29/03/2018 10:27</td>\n",
       "      <td>PARNELL SQUARE NORTH</td>\n",
       "      <td>53.353462</td>\n",
       "      <td>-6.265305</td>\n",
       "      <td>4</td>\n",
       "      <td>20</td>\n",
       "      <td>OPEN</td>\n",
       "    </tr>\n",
       "    <tr>\n",
       "      <th>2</th>\n",
       "      <td>26</td>\n",
       "      <td>29/03/2018 10:30</td>\n",
       "      <td>CLONMEL STREET</td>\n",
       "      <td>53.336021</td>\n",
       "      <td>-6.262980</td>\n",
       "      <td>7</td>\n",
       "      <td>33</td>\n",
       "      <td>OPEN</td>\n",
       "    </tr>\n",
       "    <tr>\n",
       "      <th>3</th>\n",
       "      <td>40</td>\n",
       "      <td>29/03/2018 10:24</td>\n",
       "      <td>MOUNT STREET LOWER</td>\n",
       "      <td>53.337960</td>\n",
       "      <td>-6.241530</td>\n",
       "      <td>0</td>\n",
       "      <td>40</td>\n",
       "      <td>OPEN</td>\n",
       "    </tr>\n",
       "    <tr>\n",
       "      <th>4</th>\n",
       "      <td>2</td>\n",
       "      <td>29/03/2018 10:32</td>\n",
       "      <td>CHRISTCHURCH PLACE</td>\n",
       "      <td>53.343368</td>\n",
       "      <td>-6.270120</td>\n",
       "      <td>18</td>\n",
       "      <td>20</td>\n",
       "      <td>OPEN</td>\n",
       "    </tr>\n",
       "  </tbody>\n",
       "</table>\n",
       "</div>"
      ],
      "text/plain": [
       "   available_bikes       last_update                  name   latitude  \\\n",
       "0                0  29/03/2018 10:29      SMITHFIELD NORTH  53.349562   \n",
       "1               16  29/03/2018 10:27  PARNELL SQUARE NORTH  53.353462   \n",
       "2               26  29/03/2018 10:30        CLONMEL STREET  53.336021   \n",
       "3               40  29/03/2018 10:24    MOUNT STREET LOWER  53.337960   \n",
       "4                2  29/03/2018 10:32    CHRISTCHURCH PLACE  53.343368   \n",
       "\n",
       "   longitude  available_bike_stands  bike_stands status  \n",
       "0  -6.278198                     30           30   OPEN  \n",
       "1  -6.265305                      4           20   OPEN  \n",
       "2  -6.262980                      7           33   OPEN  \n",
       "3  -6.241530                      0           40   OPEN  \n",
       "4  -6.270120                     18           20   OPEN  "
      ]
     },
     "execution_count": 4,
     "metadata": {},
     "output_type": "execute_result"
    }
   ],
   "source": [
    "df = pd.read_csv('UserTrends1.csv')\n",
    "df.head()"
   ]
  },
  {
   "cell_type": "code",
   "execution_count": null,
   "metadata": {
    "collapsed": true
   },
   "outputs": [],
   "source": []
  }
 ],
 "metadata": {
  "kernelspec": {
   "display_name": "Python 3",
   "language": "python",
   "name": "python3"
  },
  "language_info": {
   "codemirror_mode": {
    "name": "ipython",
    "version": 3
   },
   "file_extension": ".py",
   "mimetype": "text/x-python",
   "name": "python",
   "nbconvert_exporter": "python",
   "pygments_lexer": "ipython3",
   "version": "3.6.1"
  }
 },
 "nbformat": 4,
 "nbformat_minor": 2
}
