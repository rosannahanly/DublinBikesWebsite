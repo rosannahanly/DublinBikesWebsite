{
 "cells": [
  {
   "cell_type": "code",
   "execution_count": 2,
   "metadata": {
    "collapsed": true
   },
   "outputs": [],
   "source": [
    "import pandas as pd\n",
    "import numpy as np"
   ]
  },
  {
   "cell_type": "code",
   "execution_count": 3,
   "metadata": {},
   "outputs": [
    {
     "data": {
      "text/html": [
       "<div>\n",
       "<style>\n",
       "    .dataframe thead tr:only-child th {\n",
       "        text-align: right;\n",
       "    }\n",
       "\n",
       "    .dataframe thead th {\n",
       "        text-align: left;\n",
       "    }\n",
       "\n",
       "    .dataframe tbody tr th {\n",
       "        vertical-align: top;\n",
       "    }\n",
       "</style>\n",
       "<table border=\"1\" class=\"dataframe\">\n",
       "  <thead>\n",
       "    <tr style=\"text-align: right;\">\n",
       "      <th></th>\n",
       "      <th>available_bikes;\"last_update\";\"name\";\"latitude\";\"longitude\";\"available_bike_stands\";\"bike_stands\";\"status\"</th>\n",
       "    </tr>\n",
       "  </thead>\n",
       "  <tbody>\n",
       "    <tr>\n",
       "      <th>0</th>\n",
       "      <td>0;\"2018-03-29 10:29:03\";\"SMITHFIELD NORTH\";53....</td>\n",
       "    </tr>\n",
       "    <tr>\n",
       "      <th>1</th>\n",
       "      <td>16;\"2018-03-29 10:27:20\";\"PARNELL SQUARE NORTH...</td>\n",
       "    </tr>\n",
       "    <tr>\n",
       "      <th>2</th>\n",
       "      <td>26;\"2018-03-29 10:30:19\";\"CLONMEL STREET\";53.3...</td>\n",
       "    </tr>\n",
       "    <tr>\n",
       "      <th>3</th>\n",
       "      <td>40;\"2018-03-29 10:24:51\";\"MOUNT STREET LOWER\";...</td>\n",
       "    </tr>\n",
       "    <tr>\n",
       "      <th>4</th>\n",
       "      <td>2;\"2018-03-29 10:32:44\";\"CHRISTCHURCH PLACE\";5...</td>\n",
       "    </tr>\n",
       "  </tbody>\n",
       "</table>\n",
       "</div>"
      ],
      "text/plain": [
       "  available_bikes;\"last_update\";\"name\";\"latitude\";\"longitude\";\"available_bike_stands\";\"bike_stands\";\"status\"\n",
       "0  0;\"2018-03-29 10:29:03\";\"SMITHFIELD NORTH\";53....                                                        \n",
       "1  16;\"2018-03-29 10:27:20\";\"PARNELL SQUARE NORTH...                                                        \n",
       "2  26;\"2018-03-29 10:30:19\";\"CLONMEL STREET\";53.3...                                                        \n",
       "3  40;\"2018-03-29 10:24:51\";\"MOUNT STREET LOWER\";...                                                        \n",
       "4  2;\"2018-03-29 10:32:44\";\"CHRISTCHURCH PLACE\";5...                                                        "
      ]
     },
     "execution_count": 3,
     "metadata": {},
     "output_type": "execute_result"
    }
   ],
   "source": [
    "df = pd.read_csv('UserTrends.csv')\n",
    "df.head()"
   ]
  },
  {
   "cell_type": "code",
   "execution_count": null,
   "metadata": {
    "collapsed": true
   },
   "outputs": [],
   "source": []
  }
 ],
 "metadata": {
  "kernelspec": {
   "display_name": "Python 3",
   "language": "python",
   "name": "python3"
  },
  "language_info": {
   "codemirror_mode": {
    "name": "ipython",
    "version": 3
   },
   "file_extension": ".py",
   "mimetype": "text/x-python",
   "name": "python",
   "nbconvert_exporter": "python",
   "pygments_lexer": "ipython3",
   "version": "3.6.1"
  }
 },
 "nbformat": 4,
 "nbformat_minor": 2
}
